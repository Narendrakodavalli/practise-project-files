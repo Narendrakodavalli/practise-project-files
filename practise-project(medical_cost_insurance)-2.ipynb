{
 "cells": [
  {
   "cell_type": "code",
   "execution_count": 1,
   "id": "18a19486",
   "metadata": {},
   "outputs": [],
   "source": [
    "import pandas as pd\n",
    "import numpy as np\n",
    "import matplotlib.pyplot as plt\n",
    "import seaborn as sns\n",
    "import warnings\n",
    "warnings.filterwarnings('ignore')"
   ]
  },
  {
   "cell_type": "markdown",
   "id": "f8847fc1",
   "metadata": {},
   "source": [
    "# Importing data set"
   ]
  },
  {
   "cell_type": "code",
   "execution_count": 2,
   "id": "e500b014",
   "metadata": {},
   "outputs": [],
   "source": [
    "df=pd.read_csv('medical_cost_insurance.csv')"
   ]
  },
  {
   "cell_type": "code",
   "execution_count": 4,
   "id": "abd14522",
   "metadata": {},
   "outputs": [
    {
     "data": {
      "text/html": [
       "<div>\n",
       "<style scoped>\n",
       "    .dataframe tbody tr th:only-of-type {\n",
       "        vertical-align: middle;\n",
       "    }\n",
       "\n",
       "    .dataframe tbody tr th {\n",
       "        vertical-align: top;\n",
       "    }\n",
       "\n",
       "    .dataframe thead th {\n",
       "        text-align: right;\n",
       "    }\n",
       "</style>\n",
       "<table border=\"1\" class=\"dataframe\">\n",
       "  <thead>\n",
       "    <tr style=\"text-align: right;\">\n",
       "      <th></th>\n",
       "      <th>age</th>\n",
       "      <th>sex</th>\n",
       "      <th>bmi</th>\n",
       "      <th>children</th>\n",
       "      <th>smoker</th>\n",
       "      <th>region</th>\n",
       "      <th>charges</th>\n",
       "    </tr>\n",
       "  </thead>\n",
       "  <tbody>\n",
       "    <tr>\n",
       "      <th>0</th>\n",
       "      <td>19</td>\n",
       "      <td>female</td>\n",
       "      <td>27.900</td>\n",
       "      <td>0</td>\n",
       "      <td>yes</td>\n",
       "      <td>southwest</td>\n",
       "      <td>16884.92400</td>\n",
       "    </tr>\n",
       "    <tr>\n",
       "      <th>1</th>\n",
       "      <td>18</td>\n",
       "      <td>male</td>\n",
       "      <td>33.770</td>\n",
       "      <td>1</td>\n",
       "      <td>no</td>\n",
       "      <td>southeast</td>\n",
       "      <td>1725.55230</td>\n",
       "    </tr>\n",
       "    <tr>\n",
       "      <th>2</th>\n",
       "      <td>28</td>\n",
       "      <td>male</td>\n",
       "      <td>33.000</td>\n",
       "      <td>3</td>\n",
       "      <td>no</td>\n",
       "      <td>southeast</td>\n",
       "      <td>4449.46200</td>\n",
       "    </tr>\n",
       "    <tr>\n",
       "      <th>3</th>\n",
       "      <td>33</td>\n",
       "      <td>male</td>\n",
       "      <td>22.705</td>\n",
       "      <td>0</td>\n",
       "      <td>no</td>\n",
       "      <td>northwest</td>\n",
       "      <td>21984.47061</td>\n",
       "    </tr>\n",
       "    <tr>\n",
       "      <th>4</th>\n",
       "      <td>32</td>\n",
       "      <td>male</td>\n",
       "      <td>28.880</td>\n",
       "      <td>0</td>\n",
       "      <td>no</td>\n",
       "      <td>northwest</td>\n",
       "      <td>3866.85520</td>\n",
       "    </tr>\n",
       "    <tr>\n",
       "      <th>...</th>\n",
       "      <td>...</td>\n",
       "      <td>...</td>\n",
       "      <td>...</td>\n",
       "      <td>...</td>\n",
       "      <td>...</td>\n",
       "      <td>...</td>\n",
       "      <td>...</td>\n",
       "    </tr>\n",
       "    <tr>\n",
       "      <th>1333</th>\n",
       "      <td>50</td>\n",
       "      <td>male</td>\n",
       "      <td>30.970</td>\n",
       "      <td>3</td>\n",
       "      <td>no</td>\n",
       "      <td>northwest</td>\n",
       "      <td>10600.54830</td>\n",
       "    </tr>\n",
       "    <tr>\n",
       "      <th>1334</th>\n",
       "      <td>18</td>\n",
       "      <td>female</td>\n",
       "      <td>31.920</td>\n",
       "      <td>0</td>\n",
       "      <td>no</td>\n",
       "      <td>northeast</td>\n",
       "      <td>2205.98080</td>\n",
       "    </tr>\n",
       "    <tr>\n",
       "      <th>1335</th>\n",
       "      <td>18</td>\n",
       "      <td>female</td>\n",
       "      <td>36.850</td>\n",
       "      <td>0</td>\n",
       "      <td>no</td>\n",
       "      <td>southeast</td>\n",
       "      <td>1629.83350</td>\n",
       "    </tr>\n",
       "    <tr>\n",
       "      <th>1336</th>\n",
       "      <td>21</td>\n",
       "      <td>female</td>\n",
       "      <td>25.800</td>\n",
       "      <td>0</td>\n",
       "      <td>no</td>\n",
       "      <td>southwest</td>\n",
       "      <td>2007.94500</td>\n",
       "    </tr>\n",
       "    <tr>\n",
       "      <th>1337</th>\n",
       "      <td>61</td>\n",
       "      <td>female</td>\n",
       "      <td>29.070</td>\n",
       "      <td>0</td>\n",
       "      <td>yes</td>\n",
       "      <td>northwest</td>\n",
       "      <td>29141.36030</td>\n",
       "    </tr>\n",
       "  </tbody>\n",
       "</table>\n",
       "<p>1338 rows × 7 columns</p>\n",
       "</div>"
      ],
      "text/plain": [
       "      age     sex     bmi  children smoker     region      charges\n",
       "0      19  female  27.900         0    yes  southwest  16884.92400\n",
       "1      18    male  33.770         1     no  southeast   1725.55230\n",
       "2      28    male  33.000         3     no  southeast   4449.46200\n",
       "3      33    male  22.705         0     no  northwest  21984.47061\n",
       "4      32    male  28.880         0     no  northwest   3866.85520\n",
       "...   ...     ...     ...       ...    ...        ...          ...\n",
       "1333   50    male  30.970         3     no  northwest  10600.54830\n",
       "1334   18  female  31.920         0     no  northeast   2205.98080\n",
       "1335   18  female  36.850         0     no  southeast   1629.83350\n",
       "1336   21  female  25.800         0     no  southwest   2007.94500\n",
       "1337   61  female  29.070         0    yes  northwest  29141.36030\n",
       "\n",
       "[1338 rows x 7 columns]"
      ]
     },
     "execution_count": 4,
     "metadata": {},
     "output_type": "execute_result"
    }
   ],
   "source": [
    "df"
   ]
  },
  {
   "cell_type": "code",
   "execution_count": 3,
   "id": "91f8a25e",
   "metadata": {},
   "outputs": [
    {
     "data": {
      "text/plain": [
       "Index(['age', 'sex', 'bmi', 'children', 'smoker', 'region', 'charges'], dtype='object')"
      ]
     },
     "execution_count": 3,
     "metadata": {},
     "output_type": "execute_result"
    }
   ],
   "source": [
    "df.columns"
   ]
  },
  {
   "cell_type": "markdown",
   "id": "c338c609",
   "metadata": {},
   "source": [
    "# EDA EXPLORATARY DATA ANALYSIS"
   ]
  },
  {
   "cell_type": "code",
   "execution_count": 4,
   "id": "26df2b45",
   "metadata": {},
   "outputs": [
    {
     "data": {
      "text/plain": [
       "age           int64\n",
       "sex          object\n",
       "bmi         float64\n",
       "children      int64\n",
       "smoker       object\n",
       "region       object\n",
       "charges     float64\n",
       "dtype: object"
      ]
     },
     "execution_count": 4,
     "metadata": {},
     "output_type": "execute_result"
    }
   ],
   "source": [
    "df.dtypes"
   ]
  },
  {
   "cell_type": "code",
   "execution_count": 5,
   "id": "1ae5d620",
   "metadata": {},
   "outputs": [
    {
     "data": {
      "text/plain": [
       "age         0\n",
       "sex         0\n",
       "bmi         0\n",
       "children    0\n",
       "smoker      0\n",
       "region      0\n",
       "charges     0\n",
       "dtype: int64"
      ]
     },
     "execution_count": 5,
     "metadata": {},
     "output_type": "execute_result"
    }
   ],
   "source": [
    "#checking null values\n",
    "df.isnull().sum()"
   ]
  },
  {
   "cell_type": "markdown",
   "id": "913c1f2a",
   "metadata": {},
   "source": [
    "No Null values are present."
   ]
  },
  {
   "cell_type": "code",
   "execution_count": 6,
   "id": "6bcc010c",
   "metadata": {},
   "outputs": [
    {
     "name": "stdout",
     "output_type": "stream",
     "text": [
      "<class 'pandas.core.frame.DataFrame'>\n",
      "RangeIndex: 1338 entries, 0 to 1337\n",
      "Data columns (total 7 columns):\n",
      " #   Column    Non-Null Count  Dtype  \n",
      "---  ------    --------------  -----  \n",
      " 0   age       1338 non-null   int64  \n",
      " 1   sex       1338 non-null   object \n",
      " 2   bmi       1338 non-null   float64\n",
      " 3   children  1338 non-null   int64  \n",
      " 4   smoker    1338 non-null   object \n",
      " 5   region    1338 non-null   object \n",
      " 6   charges   1338 non-null   float64\n",
      "dtypes: float64(2), int64(2), object(3)\n",
      "memory usage: 73.3+ KB\n"
     ]
    }
   ],
   "source": [
    "df.info()"
   ]
  },
  {
   "cell_type": "markdown",
   "id": "165369df",
   "metadata": {},
   "source": [
    "1)Dataset datatypes are correct..\n",
    "2)Dataset have both categorical and numerical columns.\n",
    "3)Dataset contains 6 features and 1 target variables."
   ]
  },
  {
   "cell_type": "code",
   "execution_count": 7,
   "id": "11084b2f",
   "metadata": {},
   "outputs": [
    {
     "name": "stdout",
     "output_type": "stream",
     "text": [
      "Categorical columns:   ['sex', 'smoker', 'region']\n",
      "\n",
      "\n",
      "Numerical columns:   ['age', 'bmi', 'children', 'charges']\n",
      "\n",
      "\n"
     ]
    }
   ],
   "source": [
    "#seperating the numerical and categorical columns\n",
    "\n",
    "#checking the Categorical columns\n",
    "Categorical_col=[]\n",
    "for i in df.dtypes.index:\n",
    "    if df.dtypes[i] ==\"object\": \n",
    "        Categorical_col.append(i)\n",
    " \n",
    "print(\"Categorical columns:  \",Categorical_col)\n",
    "print(\"\\n\")\n",
    "\n",
    "\n",
    "Numerical_col=[]\n",
    "for i in df.dtypes.index:\n",
    "    if df.dtypes[i] !=\"object\": \n",
    "        Numerical_col.append(i)\n",
    " \n",
    "print(\"Numerical columns:  \",Numerical_col)\n",
    "print(\"\\n\")\n"
   ]
  },
  {
   "cell_type": "code",
   "execution_count": 8,
   "id": "0ece9344",
   "metadata": {},
   "outputs": [
    {
     "data": {
      "text/html": [
       "<div>\n",
       "<style scoped>\n",
       "    .dataframe tbody tr th:only-of-type {\n",
       "        vertical-align: middle;\n",
       "    }\n",
       "\n",
       "    .dataframe tbody tr th {\n",
       "        vertical-align: top;\n",
       "    }\n",
       "\n",
       "    .dataframe thead th {\n",
       "        text-align: right;\n",
       "    }\n",
       "</style>\n",
       "<table border=\"1\" class=\"dataframe\">\n",
       "  <thead>\n",
       "    <tr style=\"text-align: right;\">\n",
       "      <th></th>\n",
       "      <th>no of unique values</th>\n",
       "    </tr>\n",
       "  </thead>\n",
       "  <tbody>\n",
       "    <tr>\n",
       "      <th>age</th>\n",
       "      <td>47</td>\n",
       "    </tr>\n",
       "    <tr>\n",
       "      <th>sex</th>\n",
       "      <td>2</td>\n",
       "    </tr>\n",
       "    <tr>\n",
       "      <th>bmi</th>\n",
       "      <td>548</td>\n",
       "    </tr>\n",
       "    <tr>\n",
       "      <th>children</th>\n",
       "      <td>6</td>\n",
       "    </tr>\n",
       "    <tr>\n",
       "      <th>smoker</th>\n",
       "      <td>2</td>\n",
       "    </tr>\n",
       "    <tr>\n",
       "      <th>region</th>\n",
       "      <td>4</td>\n",
       "    </tr>\n",
       "    <tr>\n",
       "      <th>charges</th>\n",
       "      <td>1337</td>\n",
       "    </tr>\n",
       "  </tbody>\n",
       "</table>\n",
       "</div>"
      ],
      "text/plain": [
       "          no of unique values\n",
       "age                        47\n",
       "sex                         2\n",
       "bmi                       548\n",
       "children                    6\n",
       "smoker                      2\n",
       "region                      4\n",
       "charges                  1337"
      ]
     },
     "execution_count": 8,
     "metadata": {},
     "output_type": "execute_result"
    }
   ],
   "source": [
    "#checking the list of counts of target\n",
    "df.nunique().to_frame(\"no of unique values\")"
   ]
  },
  {
   "cell_type": "code",
   "execution_count": 9,
   "id": "70e0635f",
   "metadata": {},
   "outputs": [
    {
     "name": "stdout",
     "output_type": "stream",
     "text": [
      "18    69\n",
      "19    68\n",
      "50    29\n",
      "51    29\n",
      "47    29\n",
      "46    29\n",
      "45    29\n",
      "20    29\n",
      "48    29\n",
      "52    29\n",
      "22    28\n",
      "49    28\n",
      "54    28\n",
      "53    28\n",
      "21    28\n",
      "26    28\n",
      "24    28\n",
      "25    28\n",
      "28    28\n",
      "27    28\n",
      "23    28\n",
      "43    27\n",
      "29    27\n",
      "30    27\n",
      "41    27\n",
      "42    27\n",
      "44    27\n",
      "31    27\n",
      "40    27\n",
      "32    26\n",
      "33    26\n",
      "56    26\n",
      "34    26\n",
      "55    26\n",
      "57    26\n",
      "37    25\n",
      "59    25\n",
      "58    25\n",
      "36    25\n",
      "38    25\n",
      "35    25\n",
      "39    25\n",
      "61    23\n",
      "60    23\n",
      "63    23\n",
      "62    23\n",
      "64    22\n",
      "Name: age, dtype: int64\n",
      "\n",
      "\n",
      "male      676\n",
      "female    662\n",
      "Name: sex, dtype: int64\n",
      "\n",
      "\n",
      "32.300    13\n",
      "28.310     9\n",
      "30.495     8\n",
      "30.875     8\n",
      "31.350     8\n",
      "          ..\n",
      "46.200     1\n",
      "23.800     1\n",
      "44.770     1\n",
      "32.120     1\n",
      "30.970     1\n",
      "Name: bmi, Length: 548, dtype: int64\n",
      "\n",
      "\n",
      "0    574\n",
      "1    324\n",
      "2    240\n",
      "3    157\n",
      "4     25\n",
      "5     18\n",
      "Name: children, dtype: int64\n",
      "\n",
      "\n",
      "no     1064\n",
      "yes     274\n",
      "Name: smoker, dtype: int64\n",
      "\n",
      "\n",
      "southeast    364\n",
      "southwest    325\n",
      "northwest    325\n",
      "northeast    324\n",
      "Name: region, dtype: int64\n",
      "\n",
      "\n",
      "1639.56310     2\n",
      "16884.92400    1\n",
      "29330.98315    1\n",
      "2221.56445     1\n",
      "19798.05455    1\n",
      "              ..\n",
      "7345.08400     1\n",
      "26109.32905    1\n",
      "28287.89766    1\n",
      "1149.39590     1\n",
      "29141.36030    1\n",
      "Name: charges, Length: 1337, dtype: int64\n",
      "\n",
      "\n"
     ]
    }
   ],
   "source": [
    "#checking the value counts of each column \n",
    "for i in df.columns:\n",
    "    print(df[i].value_counts())\n",
    "    print(\"\\n\")"
   ]
  },
  {
   "cell_type": "code",
   "execution_count": 11,
   "id": "e6c059e5",
   "metadata": {},
   "outputs": [
    {
     "data": {
      "text/html": [
       "<div>\n",
       "<style scoped>\n",
       "    .dataframe tbody tr th:only-of-type {\n",
       "        vertical-align: middle;\n",
       "    }\n",
       "\n",
       "    .dataframe tbody tr th {\n",
       "        vertical-align: top;\n",
       "    }\n",
       "\n",
       "    .dataframe thead th {\n",
       "        text-align: right;\n",
       "    }\n",
       "</style>\n",
       "<table border=\"1\" class=\"dataframe\">\n",
       "  <thead>\n",
       "    <tr style=\"text-align: right;\">\n",
       "      <th></th>\n",
       "      <th>age</th>\n",
       "      <th>bmi</th>\n",
       "      <th>children</th>\n",
       "      <th>charges</th>\n",
       "    </tr>\n",
       "  </thead>\n",
       "  <tbody>\n",
       "    <tr>\n",
       "      <th>count</th>\n",
       "      <td>1338.000000</td>\n",
       "      <td>1338.000000</td>\n",
       "      <td>1338.000000</td>\n",
       "      <td>1338.000000</td>\n",
       "    </tr>\n",
       "    <tr>\n",
       "      <th>mean</th>\n",
       "      <td>39.207025</td>\n",
       "      <td>30.663397</td>\n",
       "      <td>1.094918</td>\n",
       "      <td>13270.422265</td>\n",
       "    </tr>\n",
       "    <tr>\n",
       "      <th>std</th>\n",
       "      <td>14.049960</td>\n",
       "      <td>6.098187</td>\n",
       "      <td>1.205493</td>\n",
       "      <td>12110.011237</td>\n",
       "    </tr>\n",
       "    <tr>\n",
       "      <th>min</th>\n",
       "      <td>18.000000</td>\n",
       "      <td>15.960000</td>\n",
       "      <td>0.000000</td>\n",
       "      <td>1121.873900</td>\n",
       "    </tr>\n",
       "    <tr>\n",
       "      <th>25%</th>\n",
       "      <td>27.000000</td>\n",
       "      <td>26.296250</td>\n",
       "      <td>0.000000</td>\n",
       "      <td>4740.287150</td>\n",
       "    </tr>\n",
       "    <tr>\n",
       "      <th>50%</th>\n",
       "      <td>39.000000</td>\n",
       "      <td>30.400000</td>\n",
       "      <td>1.000000</td>\n",
       "      <td>9382.033000</td>\n",
       "    </tr>\n",
       "    <tr>\n",
       "      <th>75%</th>\n",
       "      <td>51.000000</td>\n",
       "      <td>34.693750</td>\n",
       "      <td>2.000000</td>\n",
       "      <td>16639.912515</td>\n",
       "    </tr>\n",
       "    <tr>\n",
       "      <th>max</th>\n",
       "      <td>64.000000</td>\n",
       "      <td>53.130000</td>\n",
       "      <td>5.000000</td>\n",
       "      <td>63770.428010</td>\n",
       "    </tr>\n",
       "  </tbody>\n",
       "</table>\n",
       "</div>"
      ],
      "text/plain": [
       "               age          bmi     children       charges\n",
       "count  1338.000000  1338.000000  1338.000000   1338.000000\n",
       "mean     39.207025    30.663397     1.094918  13270.422265\n",
       "std      14.049960     6.098187     1.205493  12110.011237\n",
       "min      18.000000    15.960000     0.000000   1121.873900\n",
       "25%      27.000000    26.296250     0.000000   4740.287150\n",
       "50%      39.000000    30.400000     1.000000   9382.033000\n",
       "75%      51.000000    34.693750     2.000000  16639.912515\n",
       "max      64.000000    53.130000     5.000000  63770.428010"
      ]
     },
     "execution_count": 11,
     "metadata": {},
     "output_type": "execute_result"
    }
   ],
   "source": [
    "#Statastical measures of dataset\n",
    "df.describe()"
   ]
  },
  {
   "cell_type": "markdown",
   "id": "991e9251",
   "metadata": {},
   "source": [
    "The statistical information of numerical columns..The summary of dataset looks perfect since no negative / invalid values are present.\n",
    "1)Thereis no huge difference between mean and median looks like data is not skweed."
   ]
  },
  {
   "cell_type": "markdown",
   "id": "b60e5e02",
   "metadata": {},
   "source": [
    "# DATA VISULIZATION"
   ]
  },
  {
   "cell_type": "code",
   "execution_count": 10,
   "id": "b4b5106f",
   "metadata": {},
   "outputs": [
    {
     "data": {
      "image/png": "[encoded data removed]",
      "text/plain": [
       "<Figure size 600x600 with 1 Axes>"
      ]
     },
     "metadata": {},
     "output_type": "display_data"
    }
   ],
   "source": [
    "#Distribution of age column\n",
    "plt.figure(figsize=(6,6))\n",
    "sns.distplot(df['age'])\n",
    "plt.title(\"AGE DISTRIBUTION\")\n",
    "plt.show()"
   ]
  },
  {
   "cell_type": "markdown",
   "id": "3437bc86",
   "metadata": {},
   "source": [
    "1)the distribution shows normal and more people lies between 18-25 age."
   ]
  },
  {
   "cell_type": "code",
   "execution_count": 11,
   "id": "25037290",
   "metadata": {},
   "outputs": [
    {
     "data": {
      "image/png": "[encoded data removed]",
      "text/plain": [
       "<Figure size 500x500 with 1 Axes>"
      ]
     },
     "metadata": {},
     "output_type": "display_data"
    },
    {
     "data": {
      "text/plain": [
       "male      676\n",
       "female    662\n",
       "Name: sex, dtype: int64"
      ]
     },
     "execution_count": 11,
     "metadata": {},
     "output_type": "execute_result"
    }
   ],
   "source": [
    "#checkin the distribution of sex by countplot\n",
    "plt.figure(figsize=(5,5))\n",
    "sns.countplot(data=df, x='sex')\n",
    "plt.title(\"SEX DISTRIBUTION\")\n",
    "plt.show()\n",
    "df['sex'].value_counts()"
   ]
  },
  {
   "cell_type": "markdown",
   "id": "44cd792e",
   "metadata": {},
   "source": [
    "There is no huge didfference in sex columns column is balanced in both male and female"
   ]
  },
  {
   "cell_type": "code",
   "execution_count": 12,
   "id": "9f19c355",
   "metadata": {},
   "outputs": [
    {
     "data": {
      "image/png": "[encoded data removed]",
      "text/plain": [
       "<Figure size 600x600 with 1 Axes>"
      ]
     },
     "metadata": {},
     "output_type": "display_data"
    }
   ],
   "source": [
    "#BMI distribution \n",
    "plt.figure(figsize=(6,6))\n",
    "sns.distplot(df['bmi'])\n",
    "plt.title(\"BMI DISTRIBUTION\")\n",
    "plt.show()"
   ]
  },
  {
   "cell_type": "markdown",
   "id": "eff5f6f4",
   "metadata": {},
   "source": [
    "1)BMI is normally distributed and most of them lies in  30.\n",
    "2)Normal BMI Range -- 18.5 to 24.9..but in this dataset more number of values in 25 to 30 means lot of people are  overweight it effect the insurance cost.."
   ]
  },
  {
   "cell_type": "code",
   "execution_count": 13,
   "id": "57937d66",
   "metadata": {},
   "outputs": [
    {
     "data": {
      "image/png": "[encoded data removed]",
      "text/plain": [
       "<Figure size 500x500 with 1 Axes>"
      ]
     },
     "metadata": {},
     "output_type": "display_data"
    },
    {
     "data": {
      "text/plain": [
       "0    574\n",
       "1    324\n",
       "2    240\n",
       "3    157\n",
       "4     25\n",
       "5     18\n",
       "Name: children, dtype: int64"
      ]
     },
     "execution_count": 13,
     "metadata": {},
     "output_type": "execute_result"
    }
   ],
   "source": [
    "#checkin the distribution of sex by countplot\n",
    "plt.figure(figsize=(5,5))\n",
    "sns.countplot(data=df, x='children')\n",
    "plt.title(\"CHILDREN DISTRIBUTION\")\n",
    "plt.show()\n",
    "df['children'].value_counts()"
   ]
  },
  {
   "cell_type": "code",
   "execution_count": 14,
   "id": "95ace50a",
   "metadata": {},
   "outputs": [
    {
     "data": {
      "image/png": "[encoded data removed]",
      "text/plain": [
       "<Figure size 500x500 with 1 Axes>"
      ]
     },
     "metadata": {},
     "output_type": "display_data"
    },
    {
     "data": {
      "text/plain": [
       "no     1064\n",
       "yes     274\n",
       "Name: smoker, dtype: int64"
      ]
     },
     "execution_count": 14,
     "metadata": {},
     "output_type": "execute_result"
    }
   ],
   "source": [
    "#checkin the distribution of sex by countplot\n",
    "plt.figure(figsize=(5,5))\n",
    "sns.countplot(data=df, x='smoker')\n",
    "plt.title(\"SMOKER DISTRIBUTION\")\n",
    "plt.show()\n",
    "df['smoker'].value_counts()"
   ]
  },
  {
   "cell_type": "markdown",
   "id": "3627c0f7",
   "metadata": {},
   "source": [
    "Smoker column is imbalanced seems huge differences in smoker yes and no"
   ]
  },
  {
   "cell_type": "code",
   "execution_count": 15,
   "id": "c9d7c87e",
   "metadata": {},
   "outputs": [
    {
     "data": {
      "image/png": "[encoded data removed]",
      "text/plain": [
       "<Figure size 500x500 with 1 Axes>"
      ]
     },
     "metadata": {},
     "output_type": "display_data"
    },
    {
     "data": {
      "text/plain": [
       "southeast    364\n",
       "southwest    325\n",
       "northwest    325\n",
       "northeast    324\n",
       "Name: region, dtype: int64"
      ]
     },
     "execution_count": 15,
     "metadata": {},
     "output_type": "execute_result"
    }
   ],
   "source": [
    "#checkin the distribution of sex by countplot\n",
    "plt.figure(figsize=(5,5))\n",
    "sns.countplot(data=df, x='region')\n",
    "plt.title(\"REGION DISTRIBUTION\")\n",
    "plt.show()\n",
    "df['region'].value_counts()"
   ]
  },
  {
   "cell_type": "code",
   "execution_count": 16,
   "id": "b023b542",
   "metadata": {},
   "outputs": [
    {
     "data": {
      "image/png": "[encoded data removed]",
      "text/plain": [
       "<Figure size 600x600 with 1 Axes>"
      ]
     },
     "metadata": {},
     "output_type": "display_data"
    }
   ],
   "source": [
    "plt.figure(figsize=(6,6))\n",
    "sns.distplot(df['charges'])\n",
    "plt.title(\"CHARGES DISTRIBUTION\")\n",
    "plt.show()"
   ]
  },
  {
   "cell_type": "markdown",
   "id": "0a9c19c2",
   "metadata": {},
   "source": [
    "The data in charges lies more in 0 to 10000"
   ]
  },
  {
   "cell_type": "markdown",
   "id": "0906c50c",
   "metadata": {},
   "source": [
    "ENCODING CATEGORICAL COLUMNS"
   ]
  },
  {
   "cell_type": "code",
   "execution_count": 17,
   "id": "9bfbaaec",
   "metadata": {},
   "outputs": [
    {
     "data": {
      "text/html": [
       "<div>\n",
       "<style scoped>\n",
       "    .dataframe tbody tr th:only-of-type {\n",
       "        vertical-align: middle;\n",
       "    }\n",
       "\n",
       "    .dataframe tbody tr th {\n",
       "        vertical-align: top;\n",
       "    }\n",
       "\n",
       "    .dataframe thead th {\n",
       "        text-align: right;\n",
       "    }\n",
       "</style>\n",
       "<table border=\"1\" class=\"dataframe\">\n",
       "  <thead>\n",
       "    <tr style=\"text-align: right;\">\n",
       "      <th></th>\n",
       "      <th>age</th>\n",
       "      <th>sex</th>\n",
       "      <th>bmi</th>\n",
       "      <th>children</th>\n",
       "      <th>smoker</th>\n",
       "      <th>region</th>\n",
       "      <th>charges</th>\n",
       "    </tr>\n",
       "  </thead>\n",
       "  <tbody>\n",
       "    <tr>\n",
       "      <th>0</th>\n",
       "      <td>19</td>\n",
       "      <td>0.0</td>\n",
       "      <td>27.900</td>\n",
       "      <td>0</td>\n",
       "      <td>1.0</td>\n",
       "      <td>3.0</td>\n",
       "      <td>16884.92400</td>\n",
       "    </tr>\n",
       "    <tr>\n",
       "      <th>1</th>\n",
       "      <td>18</td>\n",
       "      <td>1.0</td>\n",
       "      <td>33.770</td>\n",
       "      <td>1</td>\n",
       "      <td>0.0</td>\n",
       "      <td>2.0</td>\n",
       "      <td>1725.55230</td>\n",
       "    </tr>\n",
       "    <tr>\n",
       "      <th>2</th>\n",
       "      <td>28</td>\n",
       "      <td>1.0</td>\n",
       "      <td>33.000</td>\n",
       "      <td>3</td>\n",
       "      <td>0.0</td>\n",
       "      <td>2.0</td>\n",
       "      <td>4449.46200</td>\n",
       "    </tr>\n",
       "    <tr>\n",
       "      <th>3</th>\n",
       "      <td>33</td>\n",
       "      <td>1.0</td>\n",
       "      <td>22.705</td>\n",
       "      <td>0</td>\n",
       "      <td>0.0</td>\n",
       "      <td>1.0</td>\n",
       "      <td>21984.47061</td>\n",
       "    </tr>\n",
       "    <tr>\n",
       "      <th>4</th>\n",
       "      <td>32</td>\n",
       "      <td>1.0</td>\n",
       "      <td>28.880</td>\n",
       "      <td>0</td>\n",
       "      <td>0.0</td>\n",
       "      <td>1.0</td>\n",
       "      <td>3866.85520</td>\n",
       "    </tr>\n",
       "    <tr>\n",
       "      <th>...</th>\n",
       "      <td>...</td>\n",
       "      <td>...</td>\n",
       "      <td>...</td>\n",
       "      <td>...</td>\n",
       "      <td>...</td>\n",
       "      <td>...</td>\n",
       "      <td>...</td>\n",
       "    </tr>\n",
       "    <tr>\n",
       "      <th>1333</th>\n",
       "      <td>50</td>\n",
       "      <td>1.0</td>\n",
       "      <td>30.970</td>\n",
       "      <td>3</td>\n",
       "      <td>0.0</td>\n",
       "      <td>1.0</td>\n",
       "      <td>10600.54830</td>\n",
       "    </tr>\n",
       "    <tr>\n",
       "      <th>1334</th>\n",
       "      <td>18</td>\n",
       "      <td>0.0</td>\n",
       "      <td>31.920</td>\n",
       "      <td>0</td>\n",
       "      <td>0.0</td>\n",
       "      <td>0.0</td>\n",
       "      <td>2205.98080</td>\n",
       "    </tr>\n",
       "    <tr>\n",
       "      <th>1335</th>\n",
       "      <td>18</td>\n",
       "      <td>0.0</td>\n",
       "      <td>36.850</td>\n",
       "      <td>0</td>\n",
       "      <td>0.0</td>\n",
       "      <td>2.0</td>\n",
       "      <td>1629.83350</td>\n",
       "    </tr>\n",
       "    <tr>\n",
       "      <th>1336</th>\n",
       "      <td>21</td>\n",
       "      <td>0.0</td>\n",
       "      <td>25.800</td>\n",
       "      <td>0</td>\n",
       "      <td>0.0</td>\n",
       "      <td>3.0</td>\n",
       "      <td>2007.94500</td>\n",
       "    </tr>\n",
       "    <tr>\n",
       "      <th>1337</th>\n",
       "      <td>61</td>\n",
       "      <td>0.0</td>\n",
       "      <td>29.070</td>\n",
       "      <td>0</td>\n",
       "      <td>1.0</td>\n",
       "      <td>1.0</td>\n",
       "      <td>29141.36030</td>\n",
       "    </tr>\n",
       "  </tbody>\n",
       "</table>\n",
       "<p>1338 rows × 7 columns</p>\n",
       "</div>"
      ],
      "text/plain": [
       "      age  sex     bmi  children  smoker  region      charges\n",
       "0      19  0.0  27.900         0     1.0     3.0  16884.92400\n",
       "1      18  1.0  33.770         1     0.0     2.0   1725.55230\n",
       "2      28  1.0  33.000         3     0.0     2.0   4449.46200\n",
       "3      33  1.0  22.705         0     0.0     1.0  21984.47061\n",
       "4      32  1.0  28.880         0     0.0     1.0   3866.85520\n",
       "...   ...  ...     ...       ...     ...     ...          ...\n",
       "1333   50  1.0  30.970         3     0.0     1.0  10600.54830\n",
       "1334   18  0.0  31.920         0     0.0     0.0   2205.98080\n",
       "1335   18  0.0  36.850         0     0.0     2.0   1629.83350\n",
       "1336   21  0.0  25.800         0     0.0     3.0   2007.94500\n",
       "1337   61  0.0  29.070         0     1.0     1.0  29141.36030\n",
       "\n",
       "[1338 rows x 7 columns]"
      ]
     },
     "execution_count": 17,
     "metadata": {},
     "output_type": "execute_result"
    }
   ],
   "source": [
    "from sklearn.preprocessing import OrdinalEncoder\n",
    "OE=OrdinalEncoder()\n",
    "for i in df.columns:\n",
    "    if df[i].dtypes==\"object\":\n",
    "        df[i]= OE.fit_transform(df[i].values.reshape(-1,1))\n",
    "df   "
   ]
  },
  {
   "cell_type": "code",
   "execution_count": 18,
   "id": "8d218545",
   "metadata": {},
   "outputs": [
    {
     "data": {
      "text/html": [
       "<div>\n",
       "<style scoped>\n",
       "    .dataframe tbody tr th:only-of-type {\n",
       "        vertical-align: middle;\n",
       "    }\n",
       "\n",
       "    .dataframe tbody tr th {\n",
       "        vertical-align: top;\n",
       "    }\n",
       "\n",
       "    .dataframe thead th {\n",
       "        text-align: right;\n",
       "    }\n",
       "</style>\n",
       "<table border=\"1\" class=\"dataframe\">\n",
       "  <thead>\n",
       "    <tr style=\"text-align: right;\">\n",
       "      <th></th>\n",
       "      <th>age</th>\n",
       "      <th>sex</th>\n",
       "      <th>bmi</th>\n",
       "      <th>children</th>\n",
       "      <th>smoker</th>\n",
       "      <th>region</th>\n",
       "      <th>charges</th>\n",
       "    </tr>\n",
       "  </thead>\n",
       "  <tbody>\n",
       "    <tr>\n",
       "      <th>count</th>\n",
       "      <td>1338.000000</td>\n",
       "      <td>1338.000000</td>\n",
       "      <td>1338.000000</td>\n",
       "      <td>1338.000000</td>\n",
       "      <td>1338.000000</td>\n",
       "      <td>1338.000000</td>\n",
       "      <td>1338.000000</td>\n",
       "    </tr>\n",
       "    <tr>\n",
       "      <th>mean</th>\n",
       "      <td>39.207025</td>\n",
       "      <td>0.505232</td>\n",
       "      <td>30.663397</td>\n",
       "      <td>1.094918</td>\n",
       "      <td>0.204783</td>\n",
       "      <td>1.515695</td>\n",
       "      <td>13270.422265</td>\n",
       "    </tr>\n",
       "    <tr>\n",
       "      <th>std</th>\n",
       "      <td>14.049960</td>\n",
       "      <td>0.500160</td>\n",
       "      <td>6.098187</td>\n",
       "      <td>1.205493</td>\n",
       "      <td>0.403694</td>\n",
       "      <td>1.104885</td>\n",
       "      <td>12110.011237</td>\n",
       "    </tr>\n",
       "    <tr>\n",
       "      <th>min</th>\n",
       "      <td>18.000000</td>\n",
       "      <td>0.000000</td>\n",
       "      <td>15.960000</td>\n",
       "      <td>0.000000</td>\n",
       "      <td>0.000000</td>\n",
       "      <td>0.000000</td>\n",
       "      <td>1121.873900</td>\n",
       "    </tr>\n",
       "    <tr>\n",
       "      <th>25%</th>\n",
       "      <td>27.000000</td>\n",
       "      <td>0.000000</td>\n",
       "      <td>26.296250</td>\n",
       "      <td>0.000000</td>\n",
       "      <td>0.000000</td>\n",
       "      <td>1.000000</td>\n",
       "      <td>4740.287150</td>\n",
       "    </tr>\n",
       "    <tr>\n",
       "      <th>50%</th>\n",
       "      <td>39.000000</td>\n",
       "      <td>1.000000</td>\n",
       "      <td>30.400000</td>\n",
       "      <td>1.000000</td>\n",
       "      <td>0.000000</td>\n",
       "      <td>2.000000</td>\n",
       "      <td>9382.033000</td>\n",
       "    </tr>\n",
       "    <tr>\n",
       "      <th>75%</th>\n",
       "      <td>51.000000</td>\n",
       "      <td>1.000000</td>\n",
       "      <td>34.693750</td>\n",
       "      <td>2.000000</td>\n",
       "      <td>0.000000</td>\n",
       "      <td>2.000000</td>\n",
       "      <td>16639.912515</td>\n",
       "    </tr>\n",
       "    <tr>\n",
       "      <th>max</th>\n",
       "      <td>64.000000</td>\n",
       "      <td>1.000000</td>\n",
       "      <td>53.130000</td>\n",
       "      <td>5.000000</td>\n",
       "      <td>1.000000</td>\n",
       "      <td>3.000000</td>\n",
       "      <td>63770.428010</td>\n",
       "    </tr>\n",
       "  </tbody>\n",
       "</table>\n",
       "</div>"
      ],
      "text/plain": [
       "               age          sex          bmi     children       smoker  \\\n",
       "count  1338.000000  1338.000000  1338.000000  1338.000000  1338.000000   \n",
       "mean     39.207025     0.505232    30.663397     1.094918     0.204783   \n",
       "std      14.049960     0.500160     6.098187     1.205493     0.403694   \n",
       "min      18.000000     0.000000    15.960000     0.000000     0.000000   \n",
       "25%      27.000000     0.000000    26.296250     0.000000     0.000000   \n",
       "50%      39.000000     1.000000    30.400000     1.000000     0.000000   \n",
       "75%      51.000000     1.000000    34.693750     2.000000     0.000000   \n",
       "max      64.000000     1.000000    53.130000     5.000000     1.000000   \n",
       "\n",
       "            region       charges  \n",
       "count  1338.000000   1338.000000  \n",
       "mean      1.515695  13270.422265  \n",
       "std       1.104885  12110.011237  \n",
       "min       0.000000   1121.873900  \n",
       "25%       1.000000   4740.287150  \n",
       "50%       2.000000   9382.033000  \n",
       "75%       2.000000  16639.912515  \n",
       "max       3.000000  63770.428010  "
      ]
     },
     "execution_count": 18,
     "metadata": {},
     "output_type": "execute_result"
    }
   ],
   "source": [
    "#stattical numerical values\n",
    "df.describe()"
   ]
  },
  {
   "cell_type": "code",
   "execution_count": 19,
   "id": "b8354b6f",
   "metadata": {},
   "outputs": [
    {
     "data": {
      "text/plain": [
       "age           int64\n",
       "sex         float64\n",
       "bmi         float64\n",
       "children      int64\n",
       "smoker      float64\n",
       "region      float64\n",
       "charges     float64\n",
       "dtype: object"
      ]
     },
     "execution_count": 19,
     "metadata": {},
     "output_type": "execute_result"
    }
   ],
   "source": [
    "df.dtypes"
   ]
  },
  {
   "cell_type": "markdown",
   "id": "1de7bebc",
   "metadata": {},
   "source": [
    "All categorical values are converted into Numerical values"
   ]
  },
  {
   "cell_type": "code",
   "execution_count": 20,
   "id": "ddc1409f",
   "metadata": {},
   "outputs": [
    {
     "data": {
      "text/html": [
       "<div>\n",
       "<style scoped>\n",
       "    .dataframe tbody tr th:only-of-type {\n",
       "        vertical-align: middle;\n",
       "    }\n",
       "\n",
       "    .dataframe tbody tr th {\n",
       "        vertical-align: top;\n",
       "    }\n",
       "\n",
       "    .dataframe thead th {\n",
       "        text-align: right;\n",
       "    }\n",
       "</style>\n",
       "<table border=\"1\" class=\"dataframe\">\n",
       "  <thead>\n",
       "    <tr style=\"text-align: right;\">\n",
       "      <th></th>\n",
       "      <th>age</th>\n",
       "      <th>sex</th>\n",
       "      <th>bmi</th>\n",
       "      <th>children</th>\n",
       "      <th>smoker</th>\n",
       "      <th>region</th>\n",
       "      <th>charges</th>\n",
       "    </tr>\n",
       "  </thead>\n",
       "  <tbody>\n",
       "    <tr>\n",
       "      <th>age</th>\n",
       "      <td>1.000000</td>\n",
       "      <td>-0.020856</td>\n",
       "      <td>0.109272</td>\n",
       "      <td>0.042469</td>\n",
       "      <td>-0.025019</td>\n",
       "      <td>0.002127</td>\n",
       "      <td>0.299008</td>\n",
       "    </tr>\n",
       "    <tr>\n",
       "      <th>sex</th>\n",
       "      <td>-0.020856</td>\n",
       "      <td>1.000000</td>\n",
       "      <td>0.046371</td>\n",
       "      <td>0.017163</td>\n",
       "      <td>0.076185</td>\n",
       "      <td>0.004588</td>\n",
       "      <td>0.057292</td>\n",
       "    </tr>\n",
       "    <tr>\n",
       "      <th>bmi</th>\n",
       "      <td>0.109272</td>\n",
       "      <td>0.046371</td>\n",
       "      <td>1.000000</td>\n",
       "      <td>0.012759</td>\n",
       "      <td>0.003750</td>\n",
       "      <td>0.157566</td>\n",
       "      <td>0.198341</td>\n",
       "    </tr>\n",
       "    <tr>\n",
       "      <th>children</th>\n",
       "      <td>0.042469</td>\n",
       "      <td>0.017163</td>\n",
       "      <td>0.012759</td>\n",
       "      <td>1.000000</td>\n",
       "      <td>0.007673</td>\n",
       "      <td>0.016569</td>\n",
       "      <td>0.067998</td>\n",
       "    </tr>\n",
       "    <tr>\n",
       "      <th>smoker</th>\n",
       "      <td>-0.025019</td>\n",
       "      <td>0.076185</td>\n",
       "      <td>0.003750</td>\n",
       "      <td>0.007673</td>\n",
       "      <td>1.000000</td>\n",
       "      <td>-0.002181</td>\n",
       "      <td>0.787251</td>\n",
       "    </tr>\n",
       "    <tr>\n",
       "      <th>region</th>\n",
       "      <td>0.002127</td>\n",
       "      <td>0.004588</td>\n",
       "      <td>0.157566</td>\n",
       "      <td>0.016569</td>\n",
       "      <td>-0.002181</td>\n",
       "      <td>1.000000</td>\n",
       "      <td>-0.006208</td>\n",
       "    </tr>\n",
       "    <tr>\n",
       "      <th>charges</th>\n",
       "      <td>0.299008</td>\n",
       "      <td>0.057292</td>\n",
       "      <td>0.198341</td>\n",
       "      <td>0.067998</td>\n",
       "      <td>0.787251</td>\n",
       "      <td>-0.006208</td>\n",
       "      <td>1.000000</td>\n",
       "    </tr>\n",
       "  </tbody>\n",
       "</table>\n",
       "</div>"
      ],
      "text/plain": [
       "               age       sex       bmi  children    smoker    region   charges\n",
       "age       1.000000 -0.020856  0.109272  0.042469 -0.025019  0.002127  0.299008\n",
       "sex      -0.020856  1.000000  0.046371  0.017163  0.076185  0.004588  0.057292\n",
       "bmi       0.109272  0.046371  1.000000  0.012759  0.003750  0.157566  0.198341\n",
       "children  0.042469  0.017163  0.012759  1.000000  0.007673  0.016569  0.067998\n",
       "smoker   -0.025019  0.076185  0.003750  0.007673  1.000000 -0.002181  0.787251\n",
       "region    0.002127  0.004588  0.157566  0.016569 -0.002181  1.000000 -0.006208\n",
       "charges   0.299008  0.057292  0.198341  0.067998  0.787251 -0.006208  1.000000"
      ]
     },
     "execution_count": 20,
     "metadata": {},
     "output_type": "execute_result"
    }
   ],
   "source": [
    "#check the correlation\n",
    "cor = df.corr()\n",
    "cor"
   ]
  },
  {
   "cell_type": "code",
   "execution_count": 21,
   "id": "19c13f31",
   "metadata": {},
   "outputs": [
    {
     "data": {
      "image/png": "[encoded data removed]",
      "text/plain": [
       "<Figure size 2000x1500 with 2 Axes>"
      ]
     },
     "metadata": {},
     "output_type": "display_data"
    }
   ],
   "source": [
    "#by using heatmap checking the correlation matrix\n",
    "plt.figure(figsize=(20,15))\n",
    "sns.heatmap(df.corr(), linewidths=0.1,fmt='.1g', linecolor=\"black\", annot=True, cmap=\"Blues_r\")\n",
    "plt.show()"
   ]
  },
  {
   "cell_type": "markdown",
   "id": "7490cf4d",
   "metadata": {},
   "source": [
    "1)There is some correlation between smoker and charges..but we are going to drop any column we going to lost data."
   ]
  },
  {
   "cell_type": "markdown",
   "id": "d7c9305e",
   "metadata": {},
   "source": [
    "# sepertaing features and labels"
   ]
  },
  {
   "cell_type": "code",
   "execution_count": 22,
   "id": "f6410649",
   "metadata": {},
   "outputs": [],
   "source": [
    "x=df.drop(\"charges\", axis=1)\n",
    "y=df[\"charges\"]"
   ]
  },
  {
   "cell_type": "code",
   "execution_count": 23,
   "id": "56a08180",
   "metadata": {},
   "outputs": [
    {
     "name": "stdout",
     "output_type": "stream",
     "text": [
      "      age  sex     bmi  children  smoker  region\n",
      "0      19  0.0  27.900         0     1.0     3.0\n",
      "1      18  1.0  33.770         1     0.0     2.0\n",
      "2      28  1.0  33.000         3     0.0     2.0\n",
      "3      33  1.0  22.705         0     0.0     1.0\n",
      "4      32  1.0  28.880         0     0.0     1.0\n",
      "...   ...  ...     ...       ...     ...     ...\n",
      "1333   50  1.0  30.970         3     0.0     1.0\n",
      "1334   18  0.0  31.920         0     0.0     0.0\n",
      "1335   18  0.0  36.850         0     0.0     2.0\n",
      "1336   21  0.0  25.800         0     0.0     3.0\n",
      "1337   61  0.0  29.070         0     1.0     1.0\n",
      "\n",
      "[1338 rows x 6 columns]\n",
      "0       16884.92400\n",
      "1        1725.55230\n",
      "2        4449.46200\n",
      "3       21984.47061\n",
      "4        3866.85520\n",
      "           ...     \n",
      "1333    10600.54830\n",
      "1334     2205.98080\n",
      "1335     1629.83350\n",
      "1336     2007.94500\n",
      "1337    29141.36030\n",
      "Name: charges, Length: 1338, dtype: float64\n"
     ]
    }
   ],
   "source": [
    "print(x)\n",
    "print(y)"
   ]
  },
  {
   "cell_type": "markdown",
   "id": "18cace4c",
   "metadata": {},
   "source": [
    "# feature scaling using standardscaler"
   ]
  },
  {
   "cell_type": "code",
   "execution_count": 25,
   "id": "4e4a9320",
   "metadata": {},
   "outputs": [
    {
     "data": {
      "text/html": [
       "<div>\n",
       "<style scoped>\n",
       "    .dataframe tbody tr th:only-of-type {\n",
       "        vertical-align: middle;\n",
       "    }\n",
       "\n",
       "    .dataframe tbody tr th {\n",
       "        vertical-align: top;\n",
       "    }\n",
       "\n",
       "    .dataframe thead th {\n",
       "        text-align: right;\n",
       "    }\n",
       "</style>\n",
       "<table border=\"1\" class=\"dataframe\">\n",
       "  <thead>\n",
       "    <tr style=\"text-align: right;\">\n",
       "      <th></th>\n",
       "      <th>age</th>\n",
       "      <th>sex</th>\n",
       "      <th>bmi</th>\n",
       "      <th>children</th>\n",
       "      <th>smoker</th>\n",
       "      <th>region</th>\n",
       "    </tr>\n",
       "  </thead>\n",
       "  <tbody>\n",
       "    <tr>\n",
       "      <th>0</th>\n",
       "      <td>-1.438764</td>\n",
       "      <td>-1.010519</td>\n",
       "      <td>-0.453320</td>\n",
       "      <td>-0.908614</td>\n",
       "      <td>1.970587</td>\n",
       "      <td>1.343905</td>\n",
       "    </tr>\n",
       "    <tr>\n",
       "      <th>1</th>\n",
       "      <td>-1.509965</td>\n",
       "      <td>0.989591</td>\n",
       "      <td>0.509621</td>\n",
       "      <td>-0.078767</td>\n",
       "      <td>-0.507463</td>\n",
       "      <td>0.438495</td>\n",
       "    </tr>\n",
       "    <tr>\n",
       "      <th>2</th>\n",
       "      <td>-0.797954</td>\n",
       "      <td>0.989591</td>\n",
       "      <td>0.383307</td>\n",
       "      <td>1.580926</td>\n",
       "      <td>-0.507463</td>\n",
       "      <td>0.438495</td>\n",
       "    </tr>\n",
       "    <tr>\n",
       "      <th>3</th>\n",
       "      <td>-0.441948</td>\n",
       "      <td>0.989591</td>\n",
       "      <td>-1.305531</td>\n",
       "      <td>-0.908614</td>\n",
       "      <td>-0.507463</td>\n",
       "      <td>-0.466915</td>\n",
       "    </tr>\n",
       "    <tr>\n",
       "      <th>4</th>\n",
       "      <td>-0.513149</td>\n",
       "      <td>0.989591</td>\n",
       "      <td>-0.292556</td>\n",
       "      <td>-0.908614</td>\n",
       "      <td>-0.507463</td>\n",
       "      <td>-0.466915</td>\n",
       "    </tr>\n",
       "    <tr>\n",
       "      <th>...</th>\n",
       "      <td>...</td>\n",
       "      <td>...</td>\n",
       "      <td>...</td>\n",
       "      <td>...</td>\n",
       "      <td>...</td>\n",
       "      <td>...</td>\n",
       "    </tr>\n",
       "    <tr>\n",
       "      <th>1333</th>\n",
       "      <td>0.768473</td>\n",
       "      <td>0.989591</td>\n",
       "      <td>0.050297</td>\n",
       "      <td>1.580926</td>\n",
       "      <td>-0.507463</td>\n",
       "      <td>-0.466915</td>\n",
       "    </tr>\n",
       "    <tr>\n",
       "      <th>1334</th>\n",
       "      <td>-1.509965</td>\n",
       "      <td>-1.010519</td>\n",
       "      <td>0.206139</td>\n",
       "      <td>-0.908614</td>\n",
       "      <td>-0.507463</td>\n",
       "      <td>-1.372326</td>\n",
       "    </tr>\n",
       "    <tr>\n",
       "      <th>1335</th>\n",
       "      <td>-1.509965</td>\n",
       "      <td>-1.010519</td>\n",
       "      <td>1.014878</td>\n",
       "      <td>-0.908614</td>\n",
       "      <td>-0.507463</td>\n",
       "      <td>0.438495</td>\n",
       "    </tr>\n",
       "    <tr>\n",
       "      <th>1336</th>\n",
       "      <td>-1.296362</td>\n",
       "      <td>-1.010519</td>\n",
       "      <td>-0.797813</td>\n",
       "      <td>-0.908614</td>\n",
       "      <td>-0.507463</td>\n",
       "      <td>1.343905</td>\n",
       "    </tr>\n",
       "    <tr>\n",
       "      <th>1337</th>\n",
       "      <td>1.551686</td>\n",
       "      <td>-1.010519</td>\n",
       "      <td>-0.261388</td>\n",
       "      <td>-0.908614</td>\n",
       "      <td>1.970587</td>\n",
       "      <td>-0.466915</td>\n",
       "    </tr>\n",
       "  </tbody>\n",
       "</table>\n",
       "<p>1338 rows × 6 columns</p>\n",
       "</div>"
      ],
      "text/plain": [
       "           age       sex       bmi  children    smoker    region\n",
       "0    -1.438764 -1.010519 -0.453320 -0.908614  1.970587  1.343905\n",
       "1    -1.509965  0.989591  0.509621 -0.078767 -0.507463  0.438495\n",
       "2    -0.797954  0.989591  0.383307  1.580926 -0.507463  0.438495\n",
       "3    -0.441948  0.989591 -1.305531 -0.908614 -0.507463 -0.466915\n",
       "4    -0.513149  0.989591 -0.292556 -0.908614 -0.507463 -0.466915\n",
       "...        ...       ...       ...       ...       ...       ...\n",
       "1333  0.768473  0.989591  0.050297  1.580926 -0.507463 -0.466915\n",
       "1334 -1.509965 -1.010519  0.206139 -0.908614 -0.507463 -1.372326\n",
       "1335 -1.509965 -1.010519  1.014878 -0.908614 -0.507463  0.438495\n",
       "1336 -1.296362 -1.010519 -0.797813 -0.908614 -0.507463  1.343905\n",
       "1337  1.551686 -1.010519 -0.261388 -0.908614  1.970587 -0.466915\n",
       "\n",
       "[1338 rows x 6 columns]"
      ]
     },
     "execution_count": 25,
     "metadata": {},
     "output_type": "execute_result"
    }
   ],
   "source": [
    "from sklearn.preprocessing import StandardScaler\n",
    "scaler=StandardScaler()\n",
    "x=pd.DataFrame(scaler.fit_transform(x),columns=x.columns)# after the scaling the output in arrarys so keep in dataframe\n",
    "x"
   ]
  },
  {
   "cell_type": "markdown",
   "id": "336dba8e",
   "metadata": {},
   "source": [
    "# DATA MODELLING"
   ]
  },
  {
   "cell_type": "code",
   "execution_count": 26,
   "id": "166966e7",
   "metadata": {},
   "outputs": [],
   "source": [
    "from sklearn.model_selection import train_test_split\n",
    "from sklearn.metrics import mean_absolute_error\n",
    "from sklearn.metrics import mean_squared_error\n",
    "from sklearn.metrics import r2_score"
   ]
  },
  {
   "cell_type": "markdown",
   "id": "08dcdc96",
   "metadata": {},
   "source": [
    "Creating train test split"
   ]
  },
  {
   "cell_type": "code",
   "execution_count": 27,
   "id": "b7208479",
   "metadata": {},
   "outputs": [],
   "source": [
    "x_train, x_test, y_train, y_test = train_test_split(x,y, test_size=0.25, random_state=100)"
   ]
  },
  {
   "cell_type": "code",
   "execution_count": 28,
   "id": "7580eb00",
   "metadata": {},
   "outputs": [],
   "source": [
    "from sklearn.ensemble import RandomForestRegressor\n",
    "from sklearn.linear_model import LinearRegression\n",
    "from sklearn.tree import DecisionTreeRegressor\n",
    "from sklearn.neighbors import KNeighborsRegressor as KNN\n",
    "from sklearn.linear_model import Lasso,Ridge"
   ]
  },
  {
   "cell_type": "code",
   "execution_count": 29,
   "id": "3c6a10fa",
   "metadata": {},
   "outputs": [],
   "source": [
    "models=[LinearRegression(),DecisionTreeRegressor(),KNN(),RandomForestRegressor(),\n",
    "        Lasso(),Ridge()]"
   ]
  },
  {
   "cell_type": "code",
   "execution_count": 30,
   "id": "e519a882",
   "metadata": {},
   "outputs": [],
   "source": [
    "def r2score_train_test():\n",
    "    \n",
    "    for model in models:\n",
    "        model.fit(x_train,y_train)\n",
    "        y_train_pred = model.predict(x_train)\n",
    "        y_test_pred =model.predict(x_test)\n",
    "        \n",
    "        \n",
    "        print('r2 Score for the training', model, '=', r2_score(y_train,y_train_pred)*100)\n",
    "        print('r2 Score for the testing', model, '=',  r2_score(y_test,y_test_pred)*100)\n",
    "        print('Mean Absolute Error:', model, '=',  mean_absolute_error(y_test,y_test_pred))\n",
    "        print('Mean squared Error:', model, '=',  mean_squared_error(y_test,y_test_pred))\n",
    "        print('Root Mean square Error:', model, '=',   np.sqrt(mean_squared_error(y_test,y_test_pred)))\n",
    "        print('-'*30)       \n",
    "        print(\"\\n\")\n",
    "              "
   ]
  },
  {
   "cell_type": "code",
   "execution_count": 68,
   "id": "39e67e99",
   "metadata": {},
   "outputs": [
    {
     "name": "stdout",
     "output_type": "stream",
     "text": [
      "r2 Score for the training LinearRegression() = 73.99787783044458\n",
      "r2 Score for the testing LinearRegression() = 78.07502495003385\n",
      "Mean Absolute Error: LinearRegression() = 3937.908719788141\n",
      "Mean squared Error: LinearRegression() = 32280848.351876814\n",
      "Root Mean square Error: LinearRegression() = 5681.623742547267\n",
      "------------------------------\n",
      "\n",
      "\n",
      "r2 Score for the training DecisionTreeRegressor() = 99.87502996031803\n",
      "r2 Score for the testing DecisionTreeRegressor() = 70.46156880076708\n",
      "Mean Absolute Error: DecisionTreeRegressor() = 3176.882766728358\n",
      "Mean squared Error: DecisionTreeRegressor() = 43490385.54989175\n",
      "Root Mean square Error: DecisionTreeRegressor() = 6594.724069276269\n",
      "------------------------------\n",
      "\n",
      "\n",
      "r2 Score for the training KNeighborsRegressor() = 86.87920377309054\n",
      "r2 Score for the testing KNeighborsRegressor() = 83.57742247273178\n",
      "Mean Absolute Error: KNeighborsRegressor() = 3153.9943243552234\n",
      "Mean squared Error: KNeighborsRegressor() = 24179490.900059372\n",
      "Root Mean square Error: KNeighborsRegressor() = 4917.264574950119\n",
      "------------------------------\n",
      "\n",
      "\n",
      "r2 Score for the training RandomForestRegressor() = 97.55799460179061\n",
      "r2 Score for the testing RandomForestRegressor() = 85.44098851892623\n",
      "Mean Absolute Error: RandomForestRegressor() = 2816.3107799913996\n",
      "Mean squared Error: RandomForestRegressor() = 21435702.467287492\n",
      "Root Mean square Error: RandomForestRegressor() = 4629.870675006754\n",
      "------------------------------\n",
      "\n",
      "\n",
      "r2 Score for the training Lasso() = 73.99787383976022\n",
      "r2 Score for the testing Lasso() = 78.07498646505444\n",
      "Mean Absolute Error: Lasso() = 3937.771600290541\n",
      "Mean squared Error: Lasso() = 32280905.014554027\n",
      "Root Mean square Error: Lasso() = 5681.628729031318\n",
      "------------------------------\n",
      "\n",
      "\n",
      "r2 Score for the training Ridge() = 73.99780223308599\n",
      "r2 Score for the testing Ridge() = 78.07304184463892\n",
      "Mean Absolute Error: Ridge() = 3939.3653794714173\n",
      "Mean squared Error: Ridge() = 32283768.141950637\n",
      "Root Mean square Error: Ridge() = 5681.88068705694\n",
      "------------------------------\n",
      "\n",
      "\n"
     ]
    }
   ],
   "source": [
    "r2score_train_test()"
   ]
  },
  {
   "cell_type": "code",
   "execution_count": 31,
   "id": "5126362e",
   "metadata": {},
   "outputs": [],
   "source": [
    "from sklearn.model_selection import cross_val_score"
   ]
  },
  {
   "cell_type": "code",
   "execution_count": 32,
   "id": "68442d38",
   "metadata": {},
   "outputs": [],
   "source": [
    "def compare_models_cross_validation():\n",
    "    \n",
    "    for model in models:\n",
    "        \n",
    "        cv_score = cross_val_score(model, x, y, cv=5)\n",
    "        r2_accuracy = sum(cv_score)/len(cv_score)\n",
    "        r2_accuracy = r2_accuracy*100\n",
    "        \n",
    "        \n",
    "        print('Cross Validation Score for the', model, '=', cv_score)\n",
    "        print('r2 Accuracy  of the', model, '=', r2_accuracy,'%')\n",
    "        print('-'*30) \n",
    "        print(\"\\n\") "
   ]
  },
  {
   "cell_type": "code",
   "execution_count": 33,
   "id": "58f66666",
   "metadata": {},
   "outputs": [
    {
     "name": "stdout",
     "output_type": "stream",
     "text": [
      "Cross Validation Score for the LinearRegression() = [0.76123983 0.70838663 0.77786772 0.73365206 0.7551335 ]\n",
      "r2 Accuracy  of the LinearRegression() = 74.72559473580954 %\n",
      "------------------------------\n",
      "\n",
      "\n",
      "Cross Validation Score for the DecisionTreeRegressor() = [0.77534057 0.68993955 0.7232003  0.71554228 0.66538275]\n",
      "r2 Accuracy  of the DecisionTreeRegressor() = 71.3881093586312 %\n",
      "------------------------------\n",
      "\n",
      "\n",
      "Cross Validation Score for the KNeighborsRegressor() = [0.8221881  0.75561595 0.83987794 0.8050002  0.80856984]\n",
      "r2 Accuracy  of the KNeighborsRegressor() = 80.62504043685739 %\n",
      "------------------------------\n",
      "\n",
      "\n",
      "Cross Validation Score for the RandomForestRegressor() = [0.85741496 0.77372244 0.8706178  0.82919217 0.85585842]\n",
      "r2 Accuracy  of the RandomForestRegressor() = 83.73611594682382 %\n",
      "------------------------------\n",
      "\n",
      "\n",
      "Cross Validation Score for the Lasso() = [0.76124697 0.70842054 0.77784891 0.73364937 0.75513888]\n",
      "r2 Accuracy  of the Lasso() = 74.72609349374298 %\n",
      "------------------------------\n",
      "\n",
      "\n",
      "Cross Validation Score for the Ridge() = [0.76124956 0.70849269 0.77774855 0.73370746 0.75510598]\n",
      "r2 Accuracy  of the Ridge() = 74.72608501582405 %\n",
      "------------------------------\n",
      "\n",
      "\n"
     ]
    }
   ],
   "source": [
    "compare_models_cross_validation()"
   ]
  },
  {
   "cell_type": "markdown",
   "id": "d44acba4",
   "metadata": {},
   "source": [
    "# Model selection"
   ]
  },
  {
   "cell_type": "code",
   "execution_count": 57,
   "id": "da95ece0",
   "metadata": {},
   "outputs": [
    {
     "name": "stdout",
     "output_type": "stream",
     "text": [
      "Diff between r2_score and cross_validation score  for LinearRegression is = 3.3499999999999943\n",
      "Diff between r2_score and cross_validation score  for DecisionTreeRegressor is = -0.9200000000000017\n",
      "Diff between r2_score and cross_validation score  for KNeighborsRegressor is = 2.9499999999999886\n",
      "Diff between r2_score and cross_validation score  for RandomForestRegressor is = 1.8799999999999955\n",
      "Diff between r2_score and cross_validation score  for Lasso is = 3.3499999999999943\n",
      "Diff between r2_score and cross_validation score  for Ridge is = 3.3499999999999943\n"
     ]
    }
   ],
   "source": [
    "#difference between models and cross validation score\n",
    "print(\"Diff between r2_score and cross_validation score  for LinearRegression is =\",  78.07 -74.72)\n",
    "print(\"Diff between r2_score and cross_validation score  for DecisionTreeRegressor is =\",   70.46 -71.38)\n",
    "print(\"Diff between r2_score and cross_validation score  for KNeighborsRegressor is =\",  83.57 -80.62)\n",
    "print(\"Diff between r2_score and cross_validation score  for RandomForestRegressor is =\",  85.44 -83.56)\n",
    "print(\"Diff between r2_score and cross_validation score  for Lasso is =\",  78.07-74.72)\n",
    "print(\"Diff between r2_score and cross_validation score  for Ridge is =\", 78.07 -74.72)"
   ]
  },
  {
   "cell_type": "markdown",
   "id": "4fe60df1",
   "metadata": {},
   "source": [
    "from the above  DecisionTreeRegressor and RandomForestRegressor are the best models.But we are select RandomForestRegressor because training and testing score have less difference when compared to decisiontreeregressor"
   ]
  },
  {
   "cell_type": "markdown",
   "id": "fc162b55",
   "metadata": {},
   "source": [
    "RANDOMFORESTREGRESSOR IS THE BEST MODEL"
   ]
  },
  {
   "cell_type": "markdown",
   "id": "5c8e15c0",
   "metadata": {},
   "source": [
    "# HYPER PARAMETER TUNING"
   ]
  },
  {
   "cell_type": "code",
   "execution_count": 64,
   "id": "41ec1409",
   "metadata": {},
   "outputs": [],
   "source": [
    "from sklearn.model_selection import RandomizedSearchCV\n",
    "\n",
    "parameters ={\n",
    "             'bootstrap': [True,False],\n",
    "              'n_estimators' :[5,10,15],\n",
    "             'max_depth' : [2,8,15],\n",
    "              'min_samples_split':[2,4],\n",
    "              'min_samples_leaf':[1,2],\n",
    "               'min_weight_fraction_leaf':[0.0,0.1],\n",
    "               'max_leaf_nodes':[None],\n",
    "             'min_impurity_decrease':[0.0,0.1],'ccp_alpha':[0.0,0.1],\n",
    "             'verbose':[0],'random_state':[None],\n",
    "             'max_features' : [0.1,0.4],\n",
    "             'max_samples' : [None],\n",
    "             }"
   ]
  },
  {
   "cell_type": "code",
   "execution_count": 65,
   "id": "cb629562",
   "metadata": {},
   "outputs": [],
   "source": [
    "RCV=RandomizedSearchCV(RandomForestRegressor(),parameters,cv=5,verbose=2)"
   ]
  },
  {
   "cell_type": "code",
   "execution_count": 66,
   "id": "2cb0f1e9",
   "metadata": {},
   "outputs": [
    {
     "name": "stdout",
     "output_type": "stream",
     "text": [
      "Fitting 5 folds for each of 10 candidates, totalling 50 fits\n",
      "[CV] END bootstrap=True, ccp_alpha=0.1, max_depth=8, max_features=0.1, max_leaf_nodes=None, max_samples=None, min_impurity_decrease=0.1, min_samples_leaf=2, min_samples_split=2, min_weight_fraction_leaf=0.0, n_estimators=5, random_state=None, verbose=0; total time=   0.0s\n",
      "[CV] END bootstrap=True, ccp_alpha=0.1, max_depth=8, max_features=0.1, max_leaf_nodes=None, max_samples=None, min_impurity_decrease=0.1, min_samples_leaf=2, min_samples_split=2, min_weight_fraction_leaf=0.0, n_estimators=5, random_state=None, verbose=0; total time=   0.0s\n",
      "[CV] END bootstrap=True, ccp_alpha=0.1, max_depth=8, max_features=0.1, max_leaf_nodes=None, max_samples=None, min_impurity_decrease=0.1, min_samples_leaf=2, min_samples_split=2, min_weight_fraction_leaf=0.0, n_estimators=5, random_state=None, verbose=0; total time=   0.0s\n",
      "[CV] END bootstrap=True, ccp_alpha=0.1, max_depth=8, max_features=0.1, max_leaf_nodes=None, max_samples=None, min_impurity_decrease=0.1, min_samples_leaf=2, min_samples_split=2, min_weight_fraction_leaf=0.0, n_estimators=5, random_state=None, verbose=0; total time=   0.0s\n",
      "[CV] END bootstrap=True, ccp_alpha=0.1, max_depth=8, max_features=0.1, max_leaf_nodes=None, max_samples=None, min_impurity_decrease=0.1, min_samples_leaf=2, min_samples_split=2, min_weight_fraction_leaf=0.0, n_estimators=5, random_state=None, verbose=0; total time=   0.0s\n",
      "[CV] END bootstrap=True, ccp_alpha=0.1, max_depth=8, max_features=0.4, max_leaf_nodes=None, max_samples=None, min_impurity_decrease=0.0, min_samples_leaf=2, min_samples_split=2, min_weight_fraction_leaf=0.1, n_estimators=15, random_state=None, verbose=0; total time=   0.0s\n",
      "[CV] END bootstrap=True, ccp_alpha=0.1, max_depth=8, max_features=0.4, max_leaf_nodes=None, max_samples=None, min_impurity_decrease=0.0, min_samples_leaf=2, min_samples_split=2, min_weight_fraction_leaf=0.1, n_estimators=15, random_state=None, verbose=0; total time=   0.0s\n",
      "[CV] END bootstrap=True, ccp_alpha=0.1, max_depth=8, max_features=0.4, max_leaf_nodes=None, max_samples=None, min_impurity_decrease=0.0, min_samples_leaf=2, min_samples_split=2, min_weight_fraction_leaf=0.1, n_estimators=15, random_state=None, verbose=0; total time=   0.0s\n",
      "[CV] END bootstrap=True, ccp_alpha=0.1, max_depth=8, max_features=0.4, max_leaf_nodes=None, max_samples=None, min_impurity_decrease=0.0, min_samples_leaf=2, min_samples_split=2, min_weight_fraction_leaf=0.1, n_estimators=15, random_state=None, verbose=0; total time=   0.0s\n",
      "[CV] END bootstrap=True, ccp_alpha=0.1, max_depth=8, max_features=0.4, max_leaf_nodes=None, max_samples=None, min_impurity_decrease=0.0, min_samples_leaf=2, min_samples_split=2, min_weight_fraction_leaf=0.1, n_estimators=15, random_state=None, verbose=0; total time=   0.0s\n",
      "[CV] END bootstrap=True, ccp_alpha=0.0, max_depth=8, max_features=0.1, max_leaf_nodes=None, max_samples=None, min_impurity_decrease=0.1, min_samples_leaf=1, min_samples_split=2, min_weight_fraction_leaf=0.1, n_estimators=10, random_state=None, verbose=0; total time=   0.0s\n",
      "[CV] END bootstrap=True, ccp_alpha=0.0, max_depth=8, max_features=0.1, max_leaf_nodes=None, max_samples=None, min_impurity_decrease=0.1, min_samples_leaf=1, min_samples_split=2, min_weight_fraction_leaf=0.1, n_estimators=10, random_state=None, verbose=0; total time=   0.0s\n",
      "[CV] END bootstrap=True, ccp_alpha=0.0, max_depth=8, max_features=0.1, max_leaf_nodes=None, max_samples=None, min_impurity_decrease=0.1, min_samples_leaf=1, min_samples_split=2, min_weight_fraction_leaf=0.1, n_estimators=10, random_state=None, verbose=0; total time=   0.0s\n",
      "[CV] END bootstrap=True, ccp_alpha=0.0, max_depth=8, max_features=0.1, max_leaf_nodes=None, max_samples=None, min_impurity_decrease=0.1, min_samples_leaf=1, min_samples_split=2, min_weight_fraction_leaf=0.1, n_estimators=10, random_state=None, verbose=0; total time=   0.0s\n",
      "[CV] END bootstrap=True, ccp_alpha=0.0, max_depth=8, max_features=0.1, max_leaf_nodes=None, max_samples=None, min_impurity_decrease=0.1, min_samples_leaf=1, min_samples_split=2, min_weight_fraction_leaf=0.1, n_estimators=10, random_state=None, verbose=0; total time=   0.0s\n",
      "[CV] END bootstrap=False, ccp_alpha=0.0, max_depth=2, max_features=0.1, max_leaf_nodes=None, max_samples=None, min_impurity_decrease=0.0, min_samples_leaf=2, min_samples_split=4, min_weight_fraction_leaf=0.0, n_estimators=10, random_state=None, verbose=0; total time=   0.0s\n",
      "[CV] END bootstrap=False, ccp_alpha=0.0, max_depth=2, max_features=0.1, max_leaf_nodes=None, max_samples=None, min_impurity_decrease=0.0, min_samples_leaf=2, min_samples_split=4, min_weight_fraction_leaf=0.0, n_estimators=10, random_state=None, verbose=0; total time=   0.0s\n",
      "[CV] END bootstrap=False, ccp_alpha=0.0, max_depth=2, max_features=0.1, max_leaf_nodes=None, max_samples=None, min_impurity_decrease=0.0, min_samples_leaf=2, min_samples_split=4, min_weight_fraction_leaf=0.0, n_estimators=10, random_state=None, verbose=0; total time=   0.0s\n",
      "[CV] END bootstrap=False, ccp_alpha=0.0, max_depth=2, max_features=0.1, max_leaf_nodes=None, max_samples=None, min_impurity_decrease=0.0, min_samples_leaf=2, min_samples_split=4, min_weight_fraction_leaf=0.0, n_estimators=10, random_state=None, verbose=0; total time=   0.0s\n",
      "[CV] END bootstrap=False, ccp_alpha=0.0, max_depth=2, max_features=0.1, max_leaf_nodes=None, max_samples=None, min_impurity_decrease=0.0, min_samples_leaf=2, min_samples_split=4, min_weight_fraction_leaf=0.0, n_estimators=10, random_state=None, verbose=0; total time=   0.0s\n",
      "[CV] END bootstrap=False, ccp_alpha=0.1, max_depth=2, max_features=0.1, max_leaf_nodes=None, max_samples=None, min_impurity_decrease=0.1, min_samples_leaf=2, min_samples_split=2, min_weight_fraction_leaf=0.0, n_estimators=10, random_state=None, verbose=0; total time=   0.0s\n",
      "[CV] END bootstrap=False, ccp_alpha=0.1, max_depth=2, max_features=0.1, max_leaf_nodes=None, max_samples=None, min_impurity_decrease=0.1, min_samples_leaf=2, min_samples_split=2, min_weight_fraction_leaf=0.0, n_estimators=10, random_state=None, verbose=0; total time=   0.0s\n",
      "[CV] END bootstrap=False, ccp_alpha=0.1, max_depth=2, max_features=0.1, max_leaf_nodes=None, max_samples=None, min_impurity_decrease=0.1, min_samples_leaf=2, min_samples_split=2, min_weight_fraction_leaf=0.0, n_estimators=10, random_state=None, verbose=0; total time=   0.0s\n",
      "[CV] END bootstrap=False, ccp_alpha=0.1, max_depth=2, max_features=0.1, max_leaf_nodes=None, max_samples=None, min_impurity_decrease=0.1, min_samples_leaf=2, min_samples_split=2, min_weight_fraction_leaf=0.0, n_estimators=10, random_state=None, verbose=0; total time=   0.0s\n",
      "[CV] END bootstrap=False, ccp_alpha=0.1, max_depth=2, max_features=0.1, max_leaf_nodes=None, max_samples=None, min_impurity_decrease=0.1, min_samples_leaf=2, min_samples_split=2, min_weight_fraction_leaf=0.0, n_estimators=10, random_state=None, verbose=0; total time=   0.0s\n",
      "[CV] END bootstrap=False, ccp_alpha=0.1, max_depth=2, max_features=0.1, max_leaf_nodes=None, max_samples=None, min_impurity_decrease=0.0, min_samples_leaf=1, min_samples_split=2, min_weight_fraction_leaf=0.1, n_estimators=15, random_state=None, verbose=0; total time=   0.0s\n",
      "[CV] END bootstrap=False, ccp_alpha=0.1, max_depth=2, max_features=0.1, max_leaf_nodes=None, max_samples=None, min_impurity_decrease=0.0, min_samples_leaf=1, min_samples_split=2, min_weight_fraction_leaf=0.1, n_estimators=15, random_state=None, verbose=0; total time=   0.0s\n",
      "[CV] END bootstrap=False, ccp_alpha=0.1, max_depth=2, max_features=0.1, max_leaf_nodes=None, max_samples=None, min_impurity_decrease=0.0, min_samples_leaf=1, min_samples_split=2, min_weight_fraction_leaf=0.1, n_estimators=15, random_state=None, verbose=0; total time=   0.0s\n",
      "[CV] END bootstrap=False, ccp_alpha=0.1, max_depth=2, max_features=0.1, max_leaf_nodes=None, max_samples=None, min_impurity_decrease=0.0, min_samples_leaf=1, min_samples_split=2, min_weight_fraction_leaf=0.1, n_estimators=15, random_state=None, verbose=0; total time=   0.0s\n",
      "[CV] END bootstrap=False, ccp_alpha=0.1, max_depth=2, max_features=0.1, max_leaf_nodes=None, max_samples=None, min_impurity_decrease=0.0, min_samples_leaf=1, min_samples_split=2, min_weight_fraction_leaf=0.1, n_estimators=15, random_state=None, verbose=0; total time=   0.0s\n",
      "[CV] END bootstrap=False, ccp_alpha=0.1, max_depth=2, max_features=0.4, max_leaf_nodes=None, max_samples=None, min_impurity_decrease=0.1, min_samples_leaf=1, min_samples_split=4, min_weight_fraction_leaf=0.1, n_estimators=5, random_state=None, verbose=0; total time=   0.0s\n",
      "[CV] END bootstrap=False, ccp_alpha=0.1, max_depth=2, max_features=0.4, max_leaf_nodes=None, max_samples=None, min_impurity_decrease=0.1, min_samples_leaf=1, min_samples_split=4, min_weight_fraction_leaf=0.1, n_estimators=5, random_state=None, verbose=0; total time=   0.0s\n",
      "[CV] END bootstrap=False, ccp_alpha=0.1, max_depth=2, max_features=0.4, max_leaf_nodes=None, max_samples=None, min_impurity_decrease=0.1, min_samples_leaf=1, min_samples_split=4, min_weight_fraction_leaf=0.1, n_estimators=5, random_state=None, verbose=0; total time=   0.0s\n",
      "[CV] END bootstrap=False, ccp_alpha=0.1, max_depth=2, max_features=0.4, max_leaf_nodes=None, max_samples=None, min_impurity_decrease=0.1, min_samples_leaf=1, min_samples_split=4, min_weight_fraction_leaf=0.1, n_estimators=5, random_state=None, verbose=0; total time=   0.0s\n",
      "[CV] END bootstrap=False, ccp_alpha=0.1, max_depth=2, max_features=0.4, max_leaf_nodes=None, max_samples=None, min_impurity_decrease=0.1, min_samples_leaf=1, min_samples_split=4, min_weight_fraction_leaf=0.1, n_estimators=5, random_state=None, verbose=0; total time=   0.0s\n",
      "[CV] END bootstrap=True, ccp_alpha=0.0, max_depth=8, max_features=0.4, max_leaf_nodes=None, max_samples=None, min_impurity_decrease=0.0, min_samples_leaf=1, min_samples_split=2, min_weight_fraction_leaf=0.1, n_estimators=5, random_state=None, verbose=0; total time=   0.0s\n",
      "[CV] END bootstrap=True, ccp_alpha=0.0, max_depth=8, max_features=0.4, max_leaf_nodes=None, max_samples=None, min_impurity_decrease=0.0, min_samples_leaf=1, min_samples_split=2, min_weight_fraction_leaf=0.1, n_estimators=5, random_state=None, verbose=0; total time=   0.0s\n",
      "[CV] END bootstrap=True, ccp_alpha=0.0, max_depth=8, max_features=0.4, max_leaf_nodes=None, max_samples=None, min_impurity_decrease=0.0, min_samples_leaf=1, min_samples_split=2, min_weight_fraction_leaf=0.1, n_estimators=5, random_state=None, verbose=0; total time=   0.0s\n",
      "[CV] END bootstrap=True, ccp_alpha=0.0, max_depth=8, max_features=0.4, max_leaf_nodes=None, max_samples=None, min_impurity_decrease=0.0, min_samples_leaf=1, min_samples_split=2, min_weight_fraction_leaf=0.1, n_estimators=5, random_state=None, verbose=0; total time=   0.0s\n",
      "[CV] END bootstrap=True, ccp_alpha=0.0, max_depth=8, max_features=0.4, max_leaf_nodes=None, max_samples=None, min_impurity_decrease=0.0, min_samples_leaf=1, min_samples_split=2, min_weight_fraction_leaf=0.1, n_estimators=5, random_state=None, verbose=0; total time=   0.0s\n",
      "[CV] END bootstrap=True, ccp_alpha=0.0, max_depth=15, max_features=0.4, max_leaf_nodes=None, max_samples=None, min_impurity_decrease=0.1, min_samples_leaf=1, min_samples_split=4, min_weight_fraction_leaf=0.1, n_estimators=10, random_state=None, verbose=0; total time=   0.0s\n",
      "[CV] END bootstrap=True, ccp_alpha=0.0, max_depth=15, max_features=0.4, max_leaf_nodes=None, max_samples=None, min_impurity_decrease=0.1, min_samples_leaf=1, min_samples_split=4, min_weight_fraction_leaf=0.1, n_estimators=10, random_state=None, verbose=0; total time=   0.0s\n",
      "[CV] END bootstrap=True, ccp_alpha=0.0, max_depth=15, max_features=0.4, max_leaf_nodes=None, max_samples=None, min_impurity_decrease=0.1, min_samples_leaf=1, min_samples_split=4, min_weight_fraction_leaf=0.1, n_estimators=10, random_state=None, verbose=0; total time=   0.0s\n",
      "[CV] END bootstrap=True, ccp_alpha=0.0, max_depth=15, max_features=0.4, max_leaf_nodes=None, max_samples=None, min_impurity_decrease=0.1, min_samples_leaf=1, min_samples_split=4, min_weight_fraction_leaf=0.1, n_estimators=10, random_state=None, verbose=0; total time=   0.0s\n",
      "[CV] END bootstrap=True, ccp_alpha=0.0, max_depth=15, max_features=0.4, max_leaf_nodes=None, max_samples=None, min_impurity_decrease=0.1, min_samples_leaf=1, min_samples_split=4, min_weight_fraction_leaf=0.1, n_estimators=10, random_state=None, verbose=0; total time=   0.0s\n",
      "[CV] END bootstrap=False, ccp_alpha=0.1, max_depth=8, max_features=0.4, max_leaf_nodes=None, max_samples=None, min_impurity_decrease=0.0, min_samples_leaf=2, min_samples_split=2, min_weight_fraction_leaf=0.0, n_estimators=15, random_state=None, verbose=0; total time=   0.0s\n",
      "[CV] END bootstrap=False, ccp_alpha=0.1, max_depth=8, max_features=0.4, max_leaf_nodes=None, max_samples=None, min_impurity_decrease=0.0, min_samples_leaf=2, min_samples_split=2, min_weight_fraction_leaf=0.0, n_estimators=15, random_state=None, verbose=0; total time=   0.0s\n",
      "[CV] END bootstrap=False, ccp_alpha=0.1, max_depth=8, max_features=0.4, max_leaf_nodes=None, max_samples=None, min_impurity_decrease=0.0, min_samples_leaf=2, min_samples_split=2, min_weight_fraction_leaf=0.0, n_estimators=15, random_state=None, verbose=0; total time=   0.0s\n",
      "[CV] END bootstrap=False, ccp_alpha=0.1, max_depth=8, max_features=0.4, max_leaf_nodes=None, max_samples=None, min_impurity_decrease=0.0, min_samples_leaf=2, min_samples_split=2, min_weight_fraction_leaf=0.0, n_estimators=15, random_state=None, verbose=0; total time=   0.0s\n",
      "[CV] END bootstrap=False, ccp_alpha=0.1, max_depth=8, max_features=0.4, max_leaf_nodes=None, max_samples=None, min_impurity_decrease=0.0, min_samples_leaf=2, min_samples_split=2, min_weight_fraction_leaf=0.0, n_estimators=15, random_state=None, verbose=0; total time=   0.0s\n"
     ]
    },
    {
     "data": {
      "text/html": [
       "<style>#sk-container-id-1 {color: black;background-color: white;}#sk-container-id-1 pre{padding: 0;}#sk-container-id-1 div.sk-toggleable {background-color: white;}#sk-container-id-1 label.sk-toggleable__label {cursor: pointer;display: block;width: 100%;margin-bottom: 0;padding: 0.3em;box-sizing: border-box;text-align: center;}#sk-container-id-1 label.sk-toggleable__label-arrow:before {content: \"▸\";float: left;margin-right: 0.25em;color: #696969;}#sk-container-id-1 label.sk-toggleable__label-arrow:hover:before {color: black;}#sk-container-id-1 div.sk-estimator:hover label.sk-toggleable__label-arrow:before {color: black;}#sk-container-id-1 div.sk-toggleable__content {max-height: 0;max-width: 0;overflow: hidden;text-align: left;background-color: #f0f8ff;}#sk-container-id-1 div.sk-toggleable__content pre {margin: 0.2em;color: black;border-radius: 0.25em;background-color: #f0f8ff;}#sk-container-id-1 input.sk-toggleable__control:checked~div.sk-toggleable__content {max-height: 200px;max-width: 100%;overflow: auto;}#sk-container-id-1 input.sk-toggleable__control:checked~label.sk-toggleable__label-arrow:before {content: \"▾\";}#sk-container-id-1 div.sk-estimator input.sk-toggleable__control:checked~label.sk-toggleable__label {background-color: #d4ebff;}#sk-container-id-1 div.sk-label input.sk-toggleable__control:checked~label.sk-toggleable__label {background-color: #d4ebff;}#sk-container-id-1 input.sk-hidden--visually {border: 0;clip: rect(1px 1px 1px 1px);clip: rect(1px, 1px, 1px, 1px);height: 1px;margin: -1px;overflow: hidden;padding: 0;position: absolute;width: 1px;}#sk-container-id-1 div.sk-estimator {font-family: monospace;background-color: #f0f8ff;border: 1px dotted black;border-radius: 0.25em;box-sizing: border-box;margin-bottom: 0.5em;}#sk-container-id-1 div.sk-estimator:hover {background-color: #d4ebff;}#sk-container-id-1 div.sk-parallel-item::after {content: \"\";width: 100%;border-bottom: 1px solid gray;flex-grow: 1;}#sk-container-id-1 div.sk-label:hover label.sk-toggleable__label {background-color: #d4ebff;}#sk-container-id-1 div.sk-serial::before {content: \"\";position: absolute;border-left: 1px solid gray;box-sizing: border-box;top: 0;bottom: 0;left: 50%;z-index: 0;}#sk-container-id-1 div.sk-serial {display: flex;flex-direction: column;align-items: center;background-color: white;padding-right: 0.2em;padding-left: 0.2em;position: relative;}#sk-container-id-1 div.sk-item {position: relative;z-index: 1;}#sk-container-id-1 div.sk-parallel {display: flex;align-items: stretch;justify-content: center;background-color: white;position: relative;}#sk-container-id-1 div.sk-item::before, #sk-container-id-1 div.sk-parallel-item::before {content: \"\";position: absolute;border-left: 1px solid gray;box-sizing: border-box;top: 0;bottom: 0;left: 50%;z-index: -1;}#sk-container-id-1 div.sk-parallel-item {display: flex;flex-direction: column;z-index: 1;position: relative;background-color: white;}#sk-container-id-1 div.sk-parallel-item:first-child::after {align-self: flex-end;width: 50%;}#sk-container-id-1 div.sk-parallel-item:last-child::after {align-self: flex-start;width: 50%;}#sk-container-id-1 div.sk-parallel-item:only-child::after {width: 0;}#sk-container-id-1 div.sk-dashed-wrapped {border: 1px dashed gray;margin: 0 0.4em 0.5em 0.4em;box-sizing: border-box;padding-bottom: 0.4em;background-color: white;}#sk-container-id-1 div.sk-label label {font-family: monospace;font-weight: bold;display: inline-block;line-height: 1.2em;}#sk-container-id-1 div.sk-label-container {text-align: center;}#sk-container-id-1 div.sk-container {/* jupyter's `normalize.less` sets `[hidden] { display: none; }` but bootstrap.min.css set `[hidden] { display: none !important; }` so we also need the `!important` here to be able to override the default hidden behavior on the sphinx rendered scikit-learn.org. See: https://github.com/scikit-learn/scikit-learn/issues/21755 */display: inline-block !important;position: relative;}#sk-container-id-1 div.sk-text-repr-fallback {display: none;}</style><div id=\"sk-container-id-1\" class=\"sk-top-container\"><div class=\"sk-text-repr-fallback\"><pre>RandomizedSearchCV(cv=5, estimator=RandomForestRegressor(),\n",
       "                   param_distributions={&#x27;bootstrap&#x27;: [True, False],\n",
       "                                        &#x27;ccp_alpha&#x27;: [0.0, 0.1],\n",
       "                                        &#x27;max_depth&#x27;: [2, 8, 15],\n",
       "                                        &#x27;max_features&#x27;: [0.1, 0.4],\n",
       "                                        &#x27;max_leaf_nodes&#x27;: [None],\n",
       "                                        &#x27;max_samples&#x27;: [None],\n",
       "                                        &#x27;min_impurity_decrease&#x27;: [0.0, 0.1],\n",
       "                                        &#x27;min_samples_leaf&#x27;: [1, 2],\n",
       "                                        &#x27;min_samples_split&#x27;: [2, 4],\n",
       "                                        &#x27;min_weight_fraction_leaf&#x27;: [0.0, 0.1],\n",
       "                                        &#x27;n_estimators&#x27;: [5, 10, 15],\n",
       "                                        &#x27;random_state&#x27;: [None],\n",
       "                                        &#x27;verbose&#x27;: [0]},\n",
       "                   verbose=2)</pre><b>In a Jupyter environment, please rerun this cell to show the HTML representation or trust the notebook. <br />On GitHub, the HTML representation is unable to render, please try loading this page with nbviewer.org.</b></div><div class=\"sk-container\" hidden><div class=\"sk-item sk-dashed-wrapped\"><div class=\"sk-label-container\"><div class=\"sk-label sk-toggleable\"><input class=\"sk-toggleable__control sk-hidden--visually\" id=\"sk-estimator-id-1\" type=\"checkbox\" ><label for=\"sk-estimator-id-1\" class=\"sk-toggleable__label sk-toggleable__label-arrow\">RandomizedSearchCV</label><div class=\"sk-toggleable__content\"><pre>RandomizedSearchCV(cv=5, estimator=RandomForestRegressor(),\n",
       "                   param_distributions={&#x27;bootstrap&#x27;: [True, False],\n",
       "                                        &#x27;ccp_alpha&#x27;: [0.0, 0.1],\n",
       "                                        &#x27;max_depth&#x27;: [2, 8, 15],\n",
       "                                        &#x27;max_features&#x27;: [0.1, 0.4],\n",
       "                                        &#x27;max_leaf_nodes&#x27;: [None],\n",
       "                                        &#x27;max_samples&#x27;: [None],\n",
       "                                        &#x27;min_impurity_decrease&#x27;: [0.0, 0.1],\n",
       "                                        &#x27;min_samples_leaf&#x27;: [1, 2],\n",
       "                                        &#x27;min_samples_split&#x27;: [2, 4],\n",
       "                                        &#x27;min_weight_fraction_leaf&#x27;: [0.0, 0.1],\n",
       "                                        &#x27;n_estimators&#x27;: [5, 10, 15],\n",
       "                                        &#x27;random_state&#x27;: [None],\n",
       "                                        &#x27;verbose&#x27;: [0]},\n",
       "                   verbose=2)</pre></div></div></div><div class=\"sk-parallel\"><div class=\"sk-parallel-item\"><div class=\"sk-item\"><div class=\"sk-label-container\"><div class=\"sk-label sk-toggleable\"><input class=\"sk-toggleable__control sk-hidden--visually\" id=\"sk-estimator-id-2\" type=\"checkbox\" ><label for=\"sk-estimator-id-2\" class=\"sk-toggleable__label sk-toggleable__label-arrow\">estimator: RandomForestRegressor</label><div class=\"sk-toggleable__content\"><pre>RandomForestRegressor()</pre></div></div></div><div class=\"sk-serial\"><div class=\"sk-item\"><div class=\"sk-estimator sk-toggleable\"><input class=\"sk-toggleable__control sk-hidden--visually\" id=\"sk-estimator-id-3\" type=\"checkbox\" ><label for=\"sk-estimator-id-3\" class=\"sk-toggleable__label sk-toggleable__label-arrow\">RandomForestRegressor</label><div class=\"sk-toggleable__content\"><pre>RandomForestRegressor()</pre></div></div></div></div></div></div></div></div></div></div>"
      ],
      "text/plain": [
       "RandomizedSearchCV(cv=5, estimator=RandomForestRegressor(),\n",
       "                   param_distributions={'bootstrap': [True, False],\n",
       "                                        'ccp_alpha': [0.0, 0.1],\n",
       "                                        'max_depth': [2, 8, 15],\n",
       "                                        'max_features': [0.1, 0.4],\n",
       "                                        'max_leaf_nodes': [None],\n",
       "                                        'max_samples': [None],\n",
       "                                        'min_impurity_decrease': [0.0, 0.1],\n",
       "                                        'min_samples_leaf': [1, 2],\n",
       "                                        'min_samples_split': [2, 4],\n",
       "                                        'min_weight_fraction_leaf': [0.0, 0.1],\n",
       "                                        'n_estimators': [5, 10, 15],\n",
       "                                        'random_state': [None],\n",
       "                                        'verbose': [0]},\n",
       "                   verbose=2)"
      ]
     },
     "execution_count": 66,
     "metadata": {},
     "output_type": "execute_result"
    }
   ],
   "source": [
    "RCV.fit(x_train,y_train)"
   ]
  },
  {
   "cell_type": "code",
   "execution_count": 68,
   "id": "67c3b9f8",
   "metadata": {},
   "outputs": [
    {
     "data": {
      "text/plain": [
       "{'verbose': 0,\n",
       " 'random_state': None,\n",
       " 'n_estimators': 15,\n",
       " 'min_weight_fraction_leaf': 0.0,\n",
       " 'min_samples_split': 2,\n",
       " 'min_samples_leaf': 2,\n",
       " 'min_impurity_decrease': 0.0,\n",
       " 'max_samples': None,\n",
       " 'max_leaf_nodes': None,\n",
       " 'max_features': 0.4,\n",
       " 'max_depth': 8,\n",
       " 'ccp_alpha': 0.1,\n",
       " 'bootstrap': False}"
      ]
     },
     "execution_count": 68,
     "metadata": {},
     "output_type": "execute_result"
    }
   ],
   "source": [
    "RCV.best_params_"
   ]
  },
  {
   "cell_type": "code",
   "execution_count": 72,
   "id": "7681c76d",
   "metadata": {},
   "outputs": [
    {
     "name": "stdout",
     "output_type": "stream",
     "text": [
      "87.76468815269484\n"
     ]
    }
   ],
   "source": [
    "best_model = RandomForestRegressor(verbose= 0,\n",
    " random_state= None,\n",
    " n_estimators= 15,\n",
    " min_weight_fraction_leaf= 0.0,\n",
    " min_samples_split= 2,\n",
    " min_samples_leaf= 2,\n",
    " min_impurity_decrease= 0.0,\n",
    " max_samples= None,\n",
    " max_leaf_nodes= None,\n",
    " max_features= 0.4,\n",
    " max_depth= 8,\n",
    " ccp_alpha= 0.1,\n",
    " bootstrap= False)\n",
    "best_model.fit(x_train,y_train)\n",
    "y_train_pred = best_model.predict(x_train)\n",
    "y_test_pred =best_model.predict(x_test)\n",
    "print(r2_score(y_test,y_test_pred)*100)"
   ]
  },
  {
   "cell_type": "markdown",
   "id": "9f973601",
   "metadata": {},
   "source": [
    "BY PERFORMING HYPERPARAMETER TUNING USING RANDOMIZEDSEARCHCV there is a increase in R2_SCORE from 85.44 to 87.76. "
   ]
  },
  {
   "cell_type": "code",
   "execution_count": 73,
   "id": "ad0f2011",
   "metadata": {},
   "outputs": [
    {
     "data": {
      "text/plain": [
       "['medical_insurance.pkl']"
      ]
     },
     "execution_count": 73,
     "metadata": {},
     "output_type": "execute_result"
    }
   ],
   "source": [
    "#saving model using .pkl\n",
    "import joblib\n",
    "joblib.dump(best_model ,\"medical_insurance.pkl\")"
   ]
  },
  {
   "cell_type": "code",
   "execution_count": null,
   "id": "586726d8",
   "metadata": {},
   "outputs": [],
   "source": []
  }
 ],
 "metadata": {
  "kernelspec": {
   "display_name": "Python 3 (ipykernel)",
   "language": "python",
   "name": "python3"
  },
  "language_info": {
   "codemirror_mode": {
    "name": "ipython",
    "version": 3
   },
   "file_extension": ".py",
   "mimetype": "text/x-python",
   "name": "python",
   "nbconvert_exporter": "python",
   "pygments_lexer": "ipython3",
   "version": "3.10.9"
  }
 },
 "nbformat": 4,
 "nbformat_minor": 5
}
